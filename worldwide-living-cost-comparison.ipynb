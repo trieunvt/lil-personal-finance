{
 "cells": [
  {
   "cell_type": "markdown",
   "metadata": {},
   "source": [
    "# Worldwide Living Cost Comparison"
   ]
  },
  {
   "cell_type": "code",
   "execution_count": 1,
   "metadata": {},
   "outputs": [
    {
     "name": "stdout",
     "output_type": "stream",
     "text": [
      "OK\n"
     ]
    }
   ],
   "source": [
    "import requests\n",
    "\n",
    "# Fetch the page content\n",
    "url = 'https://www.worlddata.info/cost-of-living.php'\n",
    "response = requests.get(url)\n",
    "\n",
    "# Check if the request was successful\n",
    "if response.status_code == 200:\n",
    "    print('OK')\n",
    "else:\n",
    "    print('Failed to fetch the page content')\n",
    "    print(f'Status code: {response.status_code}')"
   ]
  },
  {
   "cell_type": "code",
   "execution_count": 2,
   "metadata": {},
   "outputs": [
    {
     "name": "stdout",
     "output_type": "stream",
     "text": [
      "Number of headers: 5\n",
      "Number of data: 550\n"
     ]
    }
   ],
   "source": [
    "from bs4 import BeautifulSoup\n",
    "\n",
    "# Parse the page content\n",
    "soup = BeautifulSoup(response.content, 'html.parser')\n",
    "table = soup.find_all('table')\n",
    "\n",
    "# Check if the page content was empty\n",
    "if table == None:\n",
    "    print('Failed to parse the page content')\n",
    "else:\n",
    "    # Parse the table\n",
    "    soup = BeautifulSoup(str(table), 'html.parser')\n",
    "\n",
    "    # Extract table headers\n",
    "    headers = [header.text for header in soup.find_all('th')]\n",
    "    print(f'Number of headers: {len(headers)}')\n",
    "\n",
    "    # Extract table data\n",
    "    data = [datum.text for datum in soup.find_all('td')]\n",
    "    print(f'Number of data: {len(data)}')"
   ]
  },
  {
   "cell_type": "code",
   "execution_count": 3,
   "metadata": {},
   "outputs": [
    {
     "name": "stdout",
     "output_type": "stream",
     "text": [
      "Table shape: (110, 5)\n",
      " Rank             Country/Region  Cost index  Ø Monthly income  Purchasing power index\n",
      "    1                  Bermuda *       144.1             11220                   116.4\n",
      "    2           Cayman Islands *       140.1              5733                    61.2\n",
      "    3 Turks and Caicos Islands *       131.7              2214                    25.1\n",
      "    4                Switzerland       126.1              7930                    94.0\n",
      "    5                   Barbados       123.2              1773                    21.5\n",
      "    6                    Bahamas       113.5              2666                    35.1\n",
      "    7                    Iceland       113.0              6653                    88.0\n",
      "    8                     Israel       105.3              4585                    65.1\n",
      "    9            New Caledonia *       104.7              3114                    44.5\n",
      "   10                    Denmark       103.9              6113                    87.9\n",
      "   11                    Ireland       102.7              6699                    97.4\n",
      "   12           Virgin Islands *       101.0              1161                    17.2\n",
      "   13                      Palau       100.0              1188                    17.7\n",
      "   14              United States       100.0              6692                   100.0\n",
      "   15                    Vanuatu        99.6               305                     4.6\n",
      "   16                 Luxembourg        97.5              7364                   112.9\n",
      "   17                  Australia        96.4              5262                    81.6\n",
      "   18                New Zealand        94.3              4051                    64.2\n",
      "   19             United Kingdom        92.9              3983                    64.1\n",
      "   20                     Norway        90.8              8538                   140.6\n",
      "   21                     Canada        90.7              4494                    74.1\n",
      "   22                    Finland        90.2              4449                    73.7\n",
      "   23                    Lebanon        87.2               312                     5.3\n",
      "   24                Netherlands        85.6              5056                    88.3\n",
      "   25                    Belgium        83.7              4544                    81.1\n",
      "   26                     Sweden        82.4              5138                    93.2\n",
      "   27                    Austria        80.9              4589                    84.8\n",
      "   28                     France        79.8              3756                    70.4\n",
      "   29                    Germany        79.5              4498                    84.6\n",
      "   30                  Singapore        78.0              5883                   112.7\n",
      "   31                      Qatar        76.9              5839                   113.5\n",
      "   32                Hong Kong *        75.5              4600                    91.1\n",
      "   33                      Japan        74.7              3253                    65.0\n",
      "   34       United Arab Emirates        72.1              4441                    92.1\n",
      "   35                      Italy        71.8              3183                    66.3\n",
      "   36                South Korea        71.5              2958                    61.8\n",
      "   37                    Estonia        71.0              2270                    47.8\n",
      "   38                      Spain        67.3              2682                    59.6\n",
      "   39                 Costa Rica        67.2              1154                    25.7\n",
      "   40                    Macao *        66.5              3662                    82.3\n",
      "   41                    Czechia        64.6              2259                    52.2\n",
      "   42                   Portugal        63.5              2189                    51.6\n",
      "   43                     Greece        63.2              1882                    44.5\n",
      "   44                      Haiti        60.9               145                     3.6\n",
      "   45                     Mexico        60.7              1008                    24.8\n",
      "   46                      Chile        58.5              1318                    33.7\n",
      "   47                    Croatia        55.0              1723                    46.8\n",
      "   48                    Hungary        54.9              1652                    44.9\n",
      "   49                      China        51.5              1117                    32.4\n",
      "   50               Saudi Arabia        50.8              2391                    70.4\n",
      "   51                     Brazil        49.8               756                    22.7\n",
      "   52                   Honduras        49.4               242                     7.3\n",
      "   53                     Serbia        49.1               836                    25.5\n",
      "   54                El Salvador        49.0               410                    12.5\n",
      "   55                    Albania        47.9               631                    19.7\n",
      "   56                     Poland        47.8              1644                    51.4\n",
      "   57                 Montenegro        46.5               958                    30.8\n",
      "   58                    Ecuador        45.6               543                    17.8\n",
      "   59                 East Timor        44.6               178                     6.0\n",
      "   60                  Guatemala        44.4               465                    15.7\n",
      "   61                    Romania        43.6              1389                    47.6\n",
      "   62                   Bulgaria        43.3              1205                    41.6\n",
      "   63                     Brunei        41.8              2914                   104.2\n",
      "   64               South Africa        41.2               563                    20.4\n",
      "   65                    Morocco        40.6               308                    11.3\n",
      "   66                       Iraq        40.5               467                    17.2\n",
      "   67                   Ethiopia        38.1                94                     3.7\n",
      "   68                Philippines        37.2               353                    14.2\n",
      "   69                   Colombia        36.9               573                    23.2\n",
      "   70                   Cambodia        36.7               151                     6.1\n",
      "   71                 Kazakhstan        36.6               912                    37.2\n",
      "   72                      Ghana        33.8               195                     8.6\n",
      "   73                  Indonesia        33.7               406                    18.0\n",
      "   74                   Cameroon        33.7               138                     6.1\n",
      "   75                     Russia        33.7              1188                    52.7\n",
      "   76                     Zambia        33.6               110                     4.9\n",
      "   77                   Eswatini        33.5               322                    14.3\n",
      "   78                      Benin        33.5               120                     5.4\n",
      "   79                    Bolivia        32.9               300                    13.6\n",
      "   80                    Nigeria        32.4               161                     7.4\n",
      "   81                    Lesotho        32.2                97                     4.5\n",
      "   82                   Thailand        32.2               598                    27.8\n",
      "   83                   Malaysia        32.2               998                    46.4\n",
      "   84                      Kenya        31.4               176                     8.4\n",
      "   85                 Azerbaijan        31.3               557                    26.6\n",
      "   86                   Mongolia        31.1               413                    19.8\n",
      "   87                 Kyrgyzstan        31.1               142                     6.8\n",
      "   88                 Mauritania        30.9               179                     8.7\n",
      "   89                     Turkey        30.8               971                    47.1\n",
      "   90                    Algeria        30.7               413                    20.1\n",
      "   91                    Georgia        30.4               557                    27.3\n",
      "   92                    Vietnam        29.8               348                    17.4\n",
      "   93                 Tajikistan        29.7               120                     6.0\n",
      "   94                    Tunisia        29.6               314                    15.8\n",
      "   95                    Belarus        29.3               648                    33.0\n",
      "   96                 Bangladesh        28.5               238                    12.5\n",
      "   97                    Ukraine        28.4               423                    22.2\n",
      "   98                  Sri Lanka        27.5               295                    16.0\n",
      "   99                   Tanzania        27.1               101                     5.6\n",
      "  100                      Nepal        26.3               114                     6.5\n",
      "  101                 Uzbekistan        25.6               197                    11.5\n",
      "  102                     Bhutan        25.3               299                    17.7\n",
      "  103                       Laos        25.2               177                    10.5\n",
      "  104                   Suriname        24.5               447                    27.3\n",
      "  105                      Libya        24.4               631                    38.7\n",
      "  106                    Myanmar        23.8               101                     6.3\n",
      "  107                      India        23.6               212                    13.4\n",
      "  108                   Zimbabwe        22.5               145                     9.6\n",
      "  109                   Pakistan        21.3               125                     8.8\n",
      "  110                      Egypt        18.2               325                    26.7\n"
     ]
    }
   ],
   "source": [
    "import pandas as pd\n",
    "\n",
    "# Create table headers\n",
    "df = pd.DataFrame(columns=headers)\n",
    "\n",
    "# Create table data\n",
    "for i in range(0, len(data), len(headers)):\n",
    "    # Change data types\n",
    "    series = []\n",
    "    series.append(int(data[i]))\n",
    "    series.append(str(data[i + 1]))\n",
    "    series.append(float(data[i + 2]))\n",
    "    series.append(int(data[i + 3][:-4].strip().replace(',', '')))\n",
    "    series.append(float(data[i + 4]))\n",
    "\n",
    "    df.loc[len(df)] = series\n",
    "\n",
    "# Print the table\n",
    "print(f'Table shape: {df.shape}')\n",
    "print(df.to_string(index=False))"
   ]
  },
  {
   "cell_type": "code",
   "execution_count": 4,
   "metadata": {},
   "outputs": [
    {
     "name": "stdout",
     "output_type": "stream",
     "text": [
      "The expected monthly income in Vietnam to reach the highest purchasing power index: 2812.0\n"
     ]
    }
   ],
   "source": [
    "# Query Vietnam data\n",
    "vietnam_data = df[(df['Country/Region'] == 'Vietnam')]\n",
    "vietnam_income = vietnam_data['Ø Monthly income'].to_numpy()[0]\n",
    "vietnam_ppi = vietnam_data['Purchasing power index'].to_numpy()[0]\n",
    "highest_ppi = df['Purchasing power index'].max()\n",
    "\n",
    "# What is the expected monthly income in Vietnam to reach the highest purchasing power index?\n",
    "expected_income = vietnam_income * highest_ppi / vietnam_ppi\n",
    "print(f'The expected monthly income in Vietnam to reach the highest purchasing power index: {expected_income}')"
   ]
  }
 ],
 "metadata": {
  "kernelspec": {
   "display_name": "base",
   "language": "python",
   "name": "python3"
  },
  "language_info": {
   "codemirror_mode": {
    "name": "ipython",
    "version": 3
   },
   "file_extension": ".py",
   "mimetype": "text/x-python",
   "name": "python",
   "nbconvert_exporter": "python",
   "pygments_lexer": "ipython3",
   "version": "3.12.2"
  }
 },
 "nbformat": 4,
 "nbformat_minor": 2
}
